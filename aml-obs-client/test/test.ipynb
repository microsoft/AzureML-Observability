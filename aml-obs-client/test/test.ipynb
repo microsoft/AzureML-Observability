{
 "cells": [
  {
   "cell_type": "code",
   "execution_count": 1,
   "metadata": {},
   "outputs": [],
   "source": [
    "%load_ext autoreload\n",
    "%autoreload 2"
   ]
  },
  {
   "cell_type": "code",
   "execution_count": 2,
   "metadata": {},
   "outputs": [
    {
     "name": "stderr",
     "output_type": "stream",
     "text": [
      "Failure while loading azureml_run_type_providers. Failed to load entrypoint automl = azureml.train.automl.run:AutoMLRun._from_run_dto with exception (azure-identity 1.9.0 (c:\\users\\janguy\\anaconda3\\envs\\dlresearch\\lib\\site-packages), Requirement.parse('azure-identity==1.7.0'), {'azureml-dataprep'}).\n",
      "Failure while loading azureml_run_type_providers. Failed to load entrypoint azureml.PipelineRun = azureml.pipeline.core.run:PipelineRun._from_dto with exception (azureml-core 1.39.0 (c:\\users\\janguy\\anaconda3\\envs\\dlresearch\\lib\\site-packages), Requirement.parse('azureml-core~=1.38.0')).\n",
      "Failure while loading azureml_run_type_providers. Failed to load entrypoint azureml.ReusedStepRun = azureml.pipeline.core.run:StepRun._from_reused_dto with exception (azureml-core 1.39.0 (c:\\users\\janguy\\anaconda3\\envs\\dlresearch\\lib\\site-packages), Requirement.parse('azureml-core~=1.38.0')).\n",
      "Failure while loading azureml_run_type_providers. Failed to load entrypoint azureml.StepRun = azureml.pipeline.core.run:StepRun._from_dto with exception (azureml-core 1.39.0 (c:\\users\\janguy\\anaconda3\\envs\\dlresearch\\lib\\site-packages), Requirement.parse('azureml-core~=1.38.0')).\n"
     ]
    }
   ],
   "source": [
    "import sys\n",
    "sys.path.append(\"../\")\n",
    "\n",
    "import pandas as pd\n",
    "import time\n",
    "from azureml.core import Workspace\n",
    "ws = Workspace.from_config()\n",
    "\n",
    "kv=ws.get_default_keyvault()\n"
   ]
  },
  {
   "cell_type": "code",
   "execution_count": 235,
   "metadata": {},
   "outputs": [
    {
     "name": "stderr",
     "output_type": "stream",
     "text": [
      "Warning: the provided asset name 'drift_analysis_job' will not be used for anonymous registration\n",
      "Warning: the provided asset name 'drift_analysis_job' will not be used for anonymous registration\n",
      "\u001b[32mUploading .tmp (0.02 MBs): 100%|##########| 16157/16157 [00:00<00:00, 32275.88it/s]\n",
      "\u001b[39m\n",
      "\n",
      "Warning: the provided asset name 'drift_analysis_job' will not be used for anonymous registration\n"
     ]
    }
   ],
   "source": [
    "from obs.drift.drift_analysis_scheduler import execute\n",
    "from datetime import datetime\n",
    "from azure.ai.ml.constants import TimeZone\n",
    "from dateutil import tz\n",
    "\n",
    "from azure.ai.ml.entities import (\n",
    "    CronSchedule,\n",
    "    RecurrenceSchedule,\n",
    "    RecurrencePattern,\n",
    "    ScheduleStatus,\n",
    ")\n",
    "schedule_start_time = datetime.now(tz=tz.gettz(\"PACIFIC STANDARD TIME\"))\n",
    "cron_schedule = CronSchedule(\n",
    "    expression=\"*/10 * * * *\",\n",
    "    start_time=schedule_start_time,\n",
    "    time_zone=TimeZone.PACIFIC_STANDARD_TIME,\n",
    "    status=ScheduleStatus.ENABLED,\n",
    ")\n",
    "\n",
    "ml_client, job_name = execute(subscription_id=\"0e9bace8-7a81-4922-83b5-d995ff706507\",resource_group=\"azureml\",workspace=\"ws01ent\", compute_name ='DS11', experiment_name= \"drift-analysis-job\", base_table_name =\"ISDWeather\", \n",
    "target_table_name =\"ISDWeather\", base_dt_from =\"2013-05-13\", base_dt_to= \"2014-06-13\",target_dt_from=\"2013-04-13\", target_dt_to=\"2014-05-13\", bin=\"7d\", limit=100000, cron_schedule =None,user_defined_module_file=\"drift_job/drift_analysis_user.py\", user_defined_conda_file=\"drift_job/conda.yml\", drift_analysis_job_file=\"drift_job/drift_analysis_aml_job.py\", concurrent_run=False, drift_threshold =0.4)"
   ]
  },
  {
   "cell_type": "code",
   "execution_count": null,
   "metadata": {},
   "outputs": [],
   "source": [
    "def cancel_job(ml_client, job_name):\n",
    "\n",
    "\n",
    "\n",
    "    existing_job = ml_client.jobs.get(name=job_name)\n",
    "    # change schedule status to disable\n",
    "    existing_job.schedule.status = ScheduleStatus.DISABLED\n",
    "    ml_client.jobs.create_or_update(existing_job, experiment_name=existing_job.experiment_name)\n",
    "# cancel_job(ml_client, job_name)\n"
   ]
  },
  {
   "cell_type": "code",
   "execution_count": null,
   "metadata": {},
   "outputs": [],
   "source": [
    "for job in ml_client.jobs.list():\n",
    "    if job.display_name == \"schedule_pipeline\" and job.schedule.status!=\"disabled\":\n",
    "        cancel_job(ml_client, job.name)\n"
   ]
  },
  {
   "cell_type": "code",
   "execution_count": null,
   "metadata": {},
   "outputs": [],
   "source": [
    "from aml_obs.query import RT_Visualization\n",
    "# streaming_table_name=\"streaming_test\"\n",
    "\n",
    "# rt_viz =RT_Visualization(streaming_table_name,ws)\n",
    "# rt_viz.scatter(max_records=200, ago='12h',groupby='lr', y_metric='metric1',x_metric='timestamp')"
   ]
  },
  {
   "cell_type": "markdown",
   "metadata": {},
   "source": [
    "### Anomaly Detection"
   ]
  },
  {
   "cell_type": "code",
   "execution_count": null,
   "metadata": {},
   "outputs": [],
   "source": [
    "from aml_obs.query import KustoQuery\n",
    "query = KustoQuery(streaming_table_name, ws)\n",
    "\n",
    "query.anomaly_detection(min_t=\"4/26/2022 10:08:45\", max_t=\"4/23/2022 10:10:00\", step=\"0.5s\", metric=\"metric1\", agg=\"avg\", ts_col=\"timestamp\", groupby=\"lr\", sensitivity=0.1, filter=\"0.001\")\n"
   ]
  },
  {
   "cell_type": "markdown",
   "metadata": {},
   "source": [
    "### Drift Query"
   ]
  },
  {
   "cell_type": "code",
   "execution_count": 98,
   "metadata": {},
   "outputs": [],
   "source": [
    "\n",
    "from obs.drift.drift_analysis_kusto import Drift_Analysis_User"
   ]
  },
  {
   "cell_type": "code",
   "execution_count": 226,
   "metadata": {},
   "outputs": [],
   "source": [
    "drift_analysis =Drift_Analysis_User(ws)\n",
    "#test1 1m 1m28 vs 2m26\n",
    "#test2 10m 1459 vs 10m59\n"
   ]
  },
  {
   "cell_type": "code",
   "execution_count": null,
   "metadata": {},
   "outputs": [],
   "source": [
    "drift_analysis.sample_data_points(\"StormEvents\", col_name=\"EventId\", start_date = \"01/01/2007\", horizon=30 )"
   ]
  },
  {
   "cell_type": "code",
   "execution_count": 227,
   "metadata": {},
   "outputs": [],
   "source": [
    "df_output= drift_analysis.analyze_drift(limit=10000,base_table_name = 'ISDWeather',target_table_name='ISDWeather', base_dt_from='2013-04-13', base_dt_to='2014-05-13', target_dt_from='2013-04-13', target_dt_to='2014-05-13', bin='30d')\n"
   ]
  },
  {
   "cell_type": "code",
   "execution_count": 231,
   "metadata": {},
   "outputs": [
    {
     "data": {
      "text/plain": [
       "target_start_date\n",
       "2013-04-13 00:00:00+00:00    False\n",
       "2013-05-13 00:00:00+00:00    False\n",
       "2014-02-07 00:00:00+00:00    False\n",
       "2014-03-09 00:00:00+00:00    False\n",
       "2014-04-08 00:00:00+00:00    False\n",
       "2014-05-08 00:00:00+00:00    False\n",
       "Name: scaled_metric, dtype: bool"
      ]
     },
     "execution_count": 231,
     "metadata": {},
     "output_type": "execute_result"
    }
   ],
   "source": [
    "df_output.groupby(\"target_start_date\")['scaled_metric'].mean()>0.5"
   ]
  },
  {
   "cell_type": "code",
   "execution_count": null,
   "metadata": {},
   "outputs": [],
   "source": [
    "feature_distribution = drift_analysis.get_features_distributions(target_table_name='ISDWeather',target_dt_from='2013-04-13', target_dt_to='2014-05-13', bin='30d')"
   ]
  },
  {
   "cell_type": "code",
   "execution_count": null,
   "metadata": {},
   "outputs": [],
   "source": [
    "from aml_obs.drift import execute_drift_detect_job\n",
    "execute_drift_detect_job(subscription_id=\"0e9bace8-7a81-4922-83b5-d995ff706507\",resource_group=\"azureml\",workspace=\"ws01ent\", compute_name ='DS11', experiment_name= \"drift-analysis-job\", base_table_name =\"ISDWeather\", \n",
    "target_table_name =\"ISDWeather\", base_dt_from =\"2013-05-13\", base_dt_to= \"2014-06-13\",target_dt_from=\"2013-04-13\", target_dt_to=\"2014-05-13\", bin=\"7d\", limit=3000000)"
   ]
  },
  {
   "cell_type": "code",
   "execution_count": null,
   "metadata": {},
   "outputs": [],
   "source": [
    "# #Option to set parameters to a custom ADX cluster\n",
    "# from azure.mgmt.kusto import KustoManagementClient\n",
    "# from azure.mgmt.kusto.models import Cluster, AzureSku\n",
    "# from azure.common.credentials import ServicePrincipalCredentials\n",
    "# from azure.mgmt.kusto import KustoManagementClient\n",
    "# from azure.mgmt.kusto.models import Cluster, AzureSku,LanguageExtension, LanguageExtensionsList\n",
    "# from azure.mgmt.kusto.models import ReadWriteDatabase\n",
    "# from azure.mgmt.kusto.models import DatabasePrincipalAssignment\n",
    "# from azure.identity import ClientSecretCredential \n",
    "\n",
    "\n",
    "# tenant_id = \"72f988bf-86f1-41af-91ab-2d7cd011db47\"\n",
    "# #Application ID\n",
    "# client_id = \"af883abf-89dd-4889-bdb3-1ee84f68465e\"\n",
    "# #Client Secret, set it at your WS' keyvault with key name same as your client_id\n",
    "# client_secret = kv.get_secret(client_id)\n",
    "# subscription_id = \"0e9bace8-7a81-4922-83b5-d995ff706507\"\n",
    "\n",
    "# cluster_uri = \"https://adx02.westus2.kusto.windows.net\" #URL of the ADX Cluster\n",
    "# # kv.set_secret(KV_SP_ID,client_id)\n",
    "# # kv.set_secret(KV_SP_KEY,client_secret)\n",
    "# # kv.set_secret(KV_ADX_DB,\"db01\")\n",
    "# # kv.set_secret(KV_ADX_URI,cluster_uri)\n",
    "# # kv.set_secret(KV_TENANT_ID,tenant_id)\n",
    "\n",
    "# credentials = ClientSecretCredential(\n",
    "#     client_id=client_id,\n",
    "#     client_secret=client_secret,\n",
    "#     tenant_id=tenant_id\n",
    "# )\n",
    "# cluster_name = \"adx02\"\n",
    "# resource_group_name = \"databackend\"\n",
    "# kusto_management_client = KustoManagementClient(credentials, subscription_id)\n",
    "\n",
    "# cluster_operations = kusto_management_client.clusters\n",
    "\n",
    "\n",
    "\n"
   ]
  },
  {
   "cell_type": "code",
   "execution_count": null,
   "metadata": {},
   "outputs": [],
   "source": [
    "# poller = cluster_operations.begin_add_language_extensions(resource_group_name, cluster_name, LanguageExtensionsList(value=[LanguageExtension(language_extension_name=\"PYTHON\")]))\n",
    "# poller.wait()"
   ]
  },
  {
   "cell_type": "code",
   "execution_count": null,
   "metadata": {},
   "outputs": [],
   "source": []
  }
 ],
 "metadata": {
  "interpreter": {
   "hash": "8858a4df92b06e9052bc306608e3218c33233584bc6448961c72d65ba55843de"
  },
  "kernelspec": {
   "display_name": "Python 3.8.5 ('dlresearch')",
   "language": "python",
   "name": "python3"
  },
  "language_info": {
   "codemirror_mode": {
    "name": "ipython",
    "version": 3
   },
   "file_extension": ".py",
   "mimetype": "text/x-python",
   "name": "python",
   "nbconvert_exporter": "python",
   "pygments_lexer": "ipython3",
   "version": "3.8.5"
  },
  "orig_nbformat": 4
 },
 "nbformat": 4,
 "nbformat_minor": 2
}
