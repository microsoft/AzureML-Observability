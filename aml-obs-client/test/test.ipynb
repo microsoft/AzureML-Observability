{
 "cells": [
  {
   "cell_type": "code",
   "execution_count": 1,
   "metadata": {},
   "outputs": [],
   "source": [
    "%load_ext autoreload\n",
    "%autoreload 2"
   ]
  },
  {
   "cell_type": "code",
   "execution_count": 2,
   "metadata": {},
   "outputs": [
    {
     "name": "stderr",
     "output_type": "stream",
     "text": [
      "Failure while loading azureml_run_type_providers. Failed to load entrypoint hyperdrive = azureml.train.hyperdrive:HyperDriveRun._from_run_dto with exception (azureml-core 1.43.0 (c:\\users\\janguy\\anaconda3\\envs\\dlresearch\\lib\\site-packages), Requirement.parse('azureml-core~=1.39.0')).\n",
      "Failure while loading azureml_run_type_providers. Failed to load entrypoint automl = azureml.train.automl.run:AutoMLRun._from_run_dto with exception (azureml-telemetry 1.43.0 (c:\\users\\janguy\\anaconda3\\envs\\dlresearch\\lib\\site-packages), Requirement.parse('azureml-telemetry~=1.39.0')).\n",
      "Failure while loading azureml_run_type_providers. Failed to load entrypoint azureml.PipelineRun = azureml.pipeline.core.run:PipelineRun._from_dto with exception (azureml-core 1.43.0 (c:\\users\\janguy\\anaconda3\\envs\\dlresearch\\lib\\site-packages), Requirement.parse('azureml-core~=1.38.0')).\n",
      "Failure while loading azureml_run_type_providers. Failed to load entrypoint azureml.ReusedStepRun = azureml.pipeline.core.run:StepRun._from_reused_dto with exception (azureml-core 1.43.0 (c:\\users\\janguy\\anaconda3\\envs\\dlresearch\\lib\\site-packages), Requirement.parse('azureml-core~=1.38.0')).\n",
      "Failure while loading azureml_run_type_providers. Failed to load entrypoint azureml.StepRun = azureml.pipeline.core.run:StepRun._from_dto with exception (azureml-core 1.43.0 (c:\\users\\janguy\\anaconda3\\envs\\dlresearch\\lib\\site-packages), Requirement.parse('azureml-core~=1.38.0')).\n",
      "Warning: Falling back to use azure cli login credentials.\n",
      "If you run your code in unattended mode, i.e., where you can't give a user input, then we recommend to use ServicePrincipalAuthentication or MsiAuthentication.\n",
      "Please refer to aka.ms/aml-notebook-auth for different authentication mechanisms in azureml-sdk.\n"
     ]
    }
   ],
   "source": [
    "import sys\n",
    "sys.path.append(\"../\")\n",
    "\n",
    "import pandas as pd\n",
    "import time\n",
    "from azureml.core import Workspace\n",
    "ws = Workspace.from_config()\n",
    "\n",
    "kv=ws.get_default_keyvault()\n"
   ]
  },
  {
   "cell_type": "code",
   "execution_count": 7,
   "metadata": {},
   "outputs": [
    {
     "ename": "TypeError",
     "evalue": "execute() got an unexpected keyword argument 'target_dt_shift_step_size'",
     "output_type": "error",
     "traceback": [
      "\u001b[1;31m---------------------------------------------------------------------------\u001b[0m",
      "\u001b[1;31mTypeError\u001b[0m                                 Traceback (most recent call last)",
      "\u001b[1;32m<ipython-input-7-eeb5d7012530>\u001b[0m in \u001b[0;36m<module>\u001b[1;34m\u001b[0m\n\u001b[0;32m     26\u001b[0m \u001b[0mtarget_dt_shift_step_size\u001b[0m\u001b[1;33m=\u001b[0m \u001b[1;34m\"D\"\u001b[0m\u001b[1;33m\u001b[0m\u001b[1;33m\u001b[0m\u001b[0m\n\u001b[0;32m     27\u001b[0m \u001b[1;33m\u001b[0m\u001b[0m\n\u001b[1;32m---> 28\u001b[1;33m ml_client, job_name = execute(subscription_id=\"0e9bace8-7a81-4922-83b5-d995ff706507\",resource_group=\"azureml\",workspace=\"ws01ent\", compute_name ='DS11', experiment_name= \"drift-analysis-job\", base_table_name =base_table_name, drift_result_table=\"drift_analysis_result\",\n\u001b[0m\u001b[0;32m     29\u001b[0m \u001b[0mtarget_table_name\u001b[0m \u001b[1;33m=\u001b[0m\u001b[0mbase_table_name\u001b[0m\u001b[1;33m,\u001b[0m \u001b[0mbase_dt_from\u001b[0m \u001b[1;33m=\u001b[0m\u001b[0mbase_dt_from\u001b[0m\u001b[1;33m,\u001b[0m \u001b[0mbase_dt_to\u001b[0m\u001b[1;33m=\u001b[0m \u001b[0mbase_dt_to\u001b[0m\u001b[1;33m,\u001b[0m\u001b[0mtarget_dt_from\u001b[0m\u001b[1;33m=\u001b[0m\u001b[0mtarget_dt_from\u001b[0m\u001b[1;33m,\u001b[0m \u001b[0mtarget_dt_to\u001b[0m\u001b[1;33m=\u001b[0m\u001b[0mtarget_dt_to\u001b[0m\u001b[1;33m,\u001b[0m \u001b[0muser_defined_module_file\u001b[0m\u001b[1;33m=\u001b[0m\u001b[1;34m\"drift_job/drift_analysis_user.py\"\u001b[0m\u001b[1;33m,\u001b[0m \u001b[0muser_defined_conda_file\u001b[0m\u001b[1;33m=\u001b[0m\u001b[1;34m\"drift_job/conda.yml\"\u001b[0m\u001b[1;33m,\u001b[0m\u001b[1;33m\u001b[0m\u001b[1;33m\u001b[0m\u001b[0m\n\u001b[0;32m     30\u001b[0m drift_analysis_job_file=\"drift_job/drift_analysis_aml_job.py\",bin=\"7d\", limit=100000, cron_schedule =None, concurrent_run=False, drift_threshold =0.4, target_dt_shift_step_size=target_dt_shift_step_size)\n",
      "\u001b[1;31mTypeError\u001b[0m: execute() got an unexpected keyword argument 'target_dt_shift_step_size'"
     ]
    }
   ],
   "source": [
    "from obs.drift import execute\n",
    "from datetime import datetime\n",
    "from azure.ai.ml.constants import TimeZone\n",
    "from dateutil import tz\n",
    "\n",
    "from azure.ai.ml.entities import (\n",
    "    CronSchedule,\n",
    "    RecurrenceSchedule,\n",
    "    RecurrencePattern,\n",
    "    ScheduleStatus,\n",
    ")\n",
    "schedule_start_time = datetime.now(tz=tz.gettz(\"PACIFIC STANDARD TIME\"))\n",
    "# target_dt_step\n",
    "cron_schedule = CronSchedule(\n",
    "    expression=\"*/10 * * * *\",\n",
    "    start_time=schedule_start_time,\n",
    "    time_zone=TimeZone.PACIFIC_STANDARD_TIME,\n",
    "    status=ScheduleStatus.ENABLED,\n",
    ")\n",
    "base_table_name = \"IRIS_DATA_NEW\"\n",
    "target_table_name = base_table_name\n",
    "base_dt_from = \"12/15/2021\"\n",
    "base_dt_to = \"03/01/2022\"\n",
    "target_dt_from = \"04/01/2022\"\n",
    "target_dt_to =\"05/13/2022\"\n",
    "target_dt_shift_step_size= \"D\"\n",
    "\n",
    "ml_client, job_name = execute(subscription_id=\"0e9bace8-7a81-4922-83b5-d995ff706507\",resource_group=\"azureml\",workspace=\"ws01ent\", compute_name ='DS11', experiment_name= \"drift-analysis-job\", base_table_name =base_table_name, drift_result_table=\"drift_analysis_result\",\n",
    "target_table_name =base_table_name, base_dt_from =base_dt_from, base_dt_to= base_dt_to,target_dt_from=target_dt_from, target_dt_to=target_dt_to, user_defined_module_file=\"drift_job/drift_analysis_user.py\", user_defined_conda_file=\"drift_job/conda.yml\", \n",
    "drift_analysis_job_file=\"drift_job/drift_analysis_aml_job.py\",bin=\"7d\", limit=100000, cron_schedule =None, concurrent_run=False, drift_threshold =0.4, target_dt_shift_step_size=target_dt_shift_step_size)\n",
    "\n"
   ]
  },
  {
   "cell_type": "code",
   "execution_count": null,
   "metadata": {},
   "outputs": [],
   "source": [
    "\n",
    "ISDWeather_ISDWeather"
   ]
  },
  {
   "cell_type": "code",
   "execution_count": 69,
   "metadata": {},
   "outputs": [
    {
     "name": "stdout",
     "output_type": "stream",
     "text": [
      "0\n"
     ]
    },
    {
     "ename": "IndexError",
     "evalue": "index 0 is out of bounds for axis 0 with size 0",
     "output_type": "error",
     "traceback": [
      "\u001b[1;31m---------------------------------------------------------------------------\u001b[0m",
      "\u001b[1;31mIndexError\u001b[0m                                Traceback (most recent call last)",
      "\u001b[1;32m<ipython-input-69-27506f0caf1d>\u001b[0m in \u001b[0;36m<module>\u001b[1;34m\u001b[0m\n\u001b[0;32m      8\u001b[0m \u001b[0mlast_run\u001b[0m \u001b[1;33m=\u001b[0m \u001b[0mkusto_query\u001b[0m\u001b[1;33m.\u001b[0m\u001b[0mquery\u001b[0m\u001b[1;33m(\u001b[0m\u001b[1;34m\"let last_run_id = \"\u001b[0m\u001b[1;33m+\u001b[0m\u001b[0mdrift_result_table\u001b[0m\u001b[1;33m+\u001b[0m\u001b[1;34m\"|where run_id like '\"\u001b[0m\u001b[1;33m+\u001b[0m\u001b[0mrun_prefix\u001b[0m\u001b[1;33m+\u001b[0m\u001b[1;34m\"'| summarize max_run = max(run_id); \"\u001b[0m\u001b[1;33m+\u001b[0m\u001b[0mdrift_result_table\u001b[0m\u001b[1;33m+\u001b[0m\u001b[1;34m\"|where run_id == toscalar(last_run_id)\"\u001b[0m\u001b[1;33m)\u001b[0m\u001b[1;33m\u001b[0m\u001b[1;33m\u001b[0m\u001b[0m\n\u001b[0;32m      9\u001b[0m \u001b[0mprint\u001b[0m\u001b[1;33m(\u001b[0m\u001b[0mlast_run\u001b[0m\u001b[1;33m.\u001b[0m\u001b[0mshape\u001b[0m\u001b[1;33m[\u001b[0m\u001b[1;36m0\u001b[0m\u001b[1;33m]\u001b[0m\u001b[1;33m)\u001b[0m\u001b[1;33m\u001b[0m\u001b[1;33m\u001b[0m\u001b[0m\n\u001b[1;32m---> 10\u001b[1;33m \u001b[0mlast_target_date\u001b[0m \u001b[1;33m=\u001b[0m \u001b[0mlast_run\u001b[0m\u001b[1;33m[\u001b[0m\u001b[1;34m\"target_end_date\"\u001b[0m\u001b[1;33m]\u001b[0m\u001b[1;33m[\u001b[0m\u001b[1;36m0\u001b[0m\u001b[1;33m]\u001b[0m\u001b[1;33m\u001b[0m\u001b[1;33m\u001b[0m\u001b[0m\n\u001b[0m\u001b[0;32m     11\u001b[0m \u001b[0mprint\u001b[0m\u001b[1;33m(\u001b[0m\u001b[0mlast_target_date\u001b[0m\u001b[1;33m)\u001b[0m\u001b[1;33m\u001b[0m\u001b[1;33m\u001b[0m\u001b[0m\n\u001b[0;32m     12\u001b[0m \u001b[0mpd\u001b[0m\u001b[1;33m.\u001b[0m\u001b[0mdate_range\u001b[0m\u001b[1;33m(\u001b[0m\u001b[0mlast_target_date\u001b[0m\u001b[1;33m,\u001b[0m\u001b[0mperiods\u001b[0m\u001b[1;33m=\u001b[0m\u001b[1;36m2\u001b[0m\u001b[1;33m)\u001b[0m\u001b[1;33m.\u001b[0m\u001b[0mformat\u001b[0m\u001b[1;33m(\u001b[0m\u001b[1;33m)\u001b[0m\u001b[1;33m[\u001b[0m\u001b[1;33m-\u001b[0m\u001b[1;36m1\u001b[0m\u001b[1;33m]\u001b[0m\u001b[1;33m\u001b[0m\u001b[1;33m\u001b[0m\u001b[0m\n",
      "\u001b[1;32mc:\\Users\\janguy\\Anaconda3\\envs\\dlresearch\\lib\\site-packages\\pandas\\core\\series.py\u001b[0m in \u001b[0;36m__getitem__\u001b[1;34m(self, key)\u001b[0m\n\u001b[0;32m    848\u001b[0m \u001b[1;33m\u001b[0m\u001b[0m\n\u001b[0;32m    849\u001b[0m         \u001b[1;32mif\u001b[0m \u001b[0mis_integer\u001b[0m\u001b[1;33m(\u001b[0m\u001b[0mkey\u001b[0m\u001b[1;33m)\u001b[0m \u001b[1;32mand\u001b[0m \u001b[0mself\u001b[0m\u001b[1;33m.\u001b[0m\u001b[0mindex\u001b[0m\u001b[1;33m.\u001b[0m\u001b[0m_should_fallback_to_positional\u001b[0m\u001b[1;33m(\u001b[0m\u001b[1;33m)\u001b[0m\u001b[1;33m:\u001b[0m\u001b[1;33m\u001b[0m\u001b[1;33m\u001b[0m\u001b[0m\n\u001b[1;32m--> 850\u001b[1;33m             \u001b[1;32mreturn\u001b[0m \u001b[0mself\u001b[0m\u001b[1;33m.\u001b[0m\u001b[0m_values\u001b[0m\u001b[1;33m[\u001b[0m\u001b[0mkey\u001b[0m\u001b[1;33m]\u001b[0m\u001b[1;33m\u001b[0m\u001b[1;33m\u001b[0m\u001b[0m\n\u001b[0m\u001b[0;32m    851\u001b[0m \u001b[1;33m\u001b[0m\u001b[0m\n\u001b[0;32m    852\u001b[0m         \u001b[1;32melif\u001b[0m \u001b[0mkey_is_scalar\u001b[0m\u001b[1;33m:\u001b[0m\u001b[1;33m\u001b[0m\u001b[1;33m\u001b[0m\u001b[0m\n",
      "\u001b[1;31mIndexError\u001b[0m: index 0 is out of bounds for axis 0 with size 0"
     ]
    }
   ],
   "source": [
    "from obs.query import KustoQuery\n",
    "import numpy as np\n",
    "from obs.drift.drift_analysis_kusto import Drift_Analysis_User\n",
    "Drift_Analysis_User\n",
    "kusto_query = Drift_Analysis_User(ws=ws)\n",
    "drift_result_table=\"drift_analysis_result\"\n",
    "run_prefix=\"ISDWeather_ISDWeather_ddd\"\n",
    "last_run = kusto_query.query(\"let last_run_id = \"+drift_result_table+\"|where run_id like '\"+run_prefix+\"'| summarize max_run = max(run_id); \"+drift_result_table+\"|where run_id == toscalar(last_run_id)\") \n",
    "print(last_run.shape[0])\n",
    "last_target_date = last_run[\"target_end_date\"][0]\n",
    "print(last_target_date)\n",
    "pd.date_range(last_target_date,periods=2).format()[-1]"
   ]
  },
  {
   "cell_type": "code",
   "execution_count": 40,
   "metadata": {},
   "outputs": [],
   "source": [
    "from obs.drift.drift_analysis_kusto import Drift_Analysis_User\n",
    "from azureml.core import Workspace\n",
    "from obs.drift import launch_dashboard, execute\n",
    "\n",
    "ws = Workspace.from_config()\n",
    "drift_analysis = Drift_Analysis_User(ws)\n"
   ]
  },
  {
   "cell_type": "code",
   "execution_count": 44,
   "metadata": {},
   "outputs": [
    {
     "name": "stdout",
     "output_type": "stream",
     "text": [
      "Dash is running on http://127.0.0.1:8051/\n",
      "\n",
      "Dash app running on http://127.0.0.1:8051/\n"
     ]
    }
   ],
   "source": [
    "from importlib import reload\n",
    "import logging\n",
    "reload(logging)\n",
    "logging.getLogger('werkzeug')\n",
    "\n",
    "launch_dashboard(drift_analysis, port_num=8051)"
   ]
  },
  {
   "cell_type": "code",
   "execution_count": null,
   "metadata": {},
   "outputs": [],
   "source": [
    "def cancel_job(ml_client, job_name):\n",
    "\n",
    "\n",
    "\n",
    "    existing_job = ml_client.jobs.get(name=job_name)\n",
    "    # change schedule status to disable\n",
    "    existing_job.schedule.status = ScheduleStatus.DISABLED\n",
    "    ml_client.jobs.create_or_update(existing_job, experiment_name=existing_job.experiment_name)\n",
    "# cancel_job(ml_client, job_name)\n"
   ]
  },
  {
   "cell_type": "code",
   "execution_count": null,
   "metadata": {},
   "outputs": [],
   "source": [
    "for job in ml_client.jobs.list():\n",
    "    if job.display_name == \"schedule_pipeline\" and job.schedule.status!=\"disabled\":\n",
    "        cancel_job(ml_client, job.name)\n"
   ]
  },
  {
   "cell_type": "code",
   "execution_count": null,
   "metadata": {},
   "outputs": [],
   "source": [
    "from aml_obs.query import RT_Visualization\n",
    "# streaming_table_name=\"streaming_test\"\n",
    "\n",
    "# rt_viz =RT_Visualization(streaming_table_name,ws)\n",
    "# rt_viz.scatter(max_records=200, ago='12h',groupby='lr', y_metric='metric1',x_metric='timestamp')"
   ]
  },
  {
   "cell_type": "markdown",
   "metadata": {},
   "source": [
    "### Anomaly Detection"
   ]
  },
  {
   "cell_type": "code",
   "execution_count": null,
   "metadata": {},
   "outputs": [],
   "source": [
    "from aml_obs.query import KustoQuery\n",
    "query = KustoQuery(streaming_table_name, ws)\n",
    "\n",
    "query.anomaly_detection(min_t=\"4/26/2022 10:08:45\", max_t=\"4/23/2022 10:10:00\", step=\"0.5s\", metric=\"metric1\", agg=\"avg\", ts_col=\"timestamp\", groupby=\"lr\", sensitivity=0.1, filter=\"0.001\")\n"
   ]
  },
  {
   "cell_type": "markdown",
   "metadata": {},
   "source": [
    "### Drift Query"
   ]
  },
  {
   "cell_type": "code",
   "execution_count": null,
   "metadata": {},
   "outputs": [],
   "source": [
    "\n",
    "from obs.drift.drift_analysis_kusto import Drift_Analysis_User"
   ]
  },
  {
   "cell_type": "code",
   "execution_count": null,
   "metadata": {},
   "outputs": [],
   "source": [
    "drift_analysis =Drift_Analysis_User(ws)\n",
    "#test1 1m 1m28 vs 2m26\n",
    "#test2 10m 1459 vs 10m59\n"
   ]
  },
  {
   "cell_type": "code",
   "execution_count": null,
   "metadata": {},
   "outputs": [],
   "source": [
    "drift_analysis.sample_data_points(\"StormEvents\", col_name=\"EventId\", start_date = \"01/01/2007\", horizon=30 )"
   ]
  },
  {
   "cell_type": "code",
   "execution_count": null,
   "metadata": {},
   "outputs": [],
   "source": [
    "df_output, drift_result= drift_analysis.analyze_drift(limit=10000,base_table_name = 'ISDWeather',target_table_name='ISDWeather', base_dt_from='2013-04-13', base_dt_to='2014-05-13', target_dt_from='2013-04-13', target_dt_to='2014-05-13', bin='30d')\n"
   ]
  },
  {
   "cell_type": "code",
   "execution_count": null,
   "metadata": {},
   "outputs": [],
   "source": [
    "drift_result"
   ]
  },
  {
   "cell_type": "code",
   "execution_count": null,
   "metadata": {},
   "outputs": [],
   "source": [
    "feature_distribution = drift_analysis.get_features_distributions(target_table_name='ISDWeather',target_dt_from='2013-04-13', target_dt_to='2014-05-13', bin='30d')"
   ]
  },
  {
   "cell_type": "code",
   "execution_count": null,
   "metadata": {},
   "outputs": [],
   "source": [
    "from aml_obs.drift import execute_drift_detect_job\n",
    "execute_drift_detect_job(subscription_id=\"0e9bace8-7a81-4922-83b5-d995ff706507\",resource_group=\"azureml\",workspace=\"ws01ent\", compute_name ='DS11', experiment_name= \"drift-analysis-job\", base_table_name =\"ISDWeather\", \n",
    "target_table_name =\"ISDWeather\", base_dt_from =\"2013-05-13\", base_dt_to= \"2014-06-13\",target_dt_from=\"2013-04-13\", target_dt_to=\"2014-05-13\", bin=\"7d\", limit=3000000)"
   ]
  },
  {
   "cell_type": "code",
   "execution_count": null,
   "metadata": {},
   "outputs": [],
   "source": [
    "# #Option to set parameters to a custom ADX cluster\n",
    "# from azure.mgmt.kusto import KustoManagementClient\n",
    "# from azure.mgmt.kusto.models import Cluster, AzureSku\n",
    "# from azure.common.credentials import ServicePrincipalCredentials\n",
    "# from azure.mgmt.kusto import KustoManagementClient\n",
    "# from azure.mgmt.kusto.models import Cluster, AzureSku,LanguageExtension, LanguageExtensionsList\n",
    "# from azure.mgmt.kusto.models import ReadWriteDatabase\n",
    "# from azure.mgmt.kusto.models import DatabasePrincipalAssignment\n",
    "# from azure.identity import ClientSecretCredential \n",
    "\n",
    "\n",
    "# tenant_id = \"72f988bf-86f1-41af-91ab-2d7cd011db47\"\n",
    "# #Application ID\n",
    "# client_id = \"af883abf-89dd-4889-bdb3-1ee84f68465e\"\n",
    "# #Client Secret, set it at your WS' keyvault with key name same as your client_id\n",
    "# client_secret = kv.get_secret(client_id)\n",
    "# subscription_id = \"0e9bace8-7a81-4922-83b5-d995ff706507\"\n",
    "\n",
    "# cluster_uri = \"https://adx02.westus2.kusto.windows.net\" #URL of the ADX Cluster\n",
    "# # kv.set_secret(KV_SP_ID,client_id)\n",
    "# # kv.set_secret(KV_SP_KEY,client_secret)\n",
    "# # kv.set_secret(KV_ADX_DB,\"db01\")\n",
    "# # kv.set_secret(KV_ADX_URI,cluster_uri)\n",
    "# # kv.set_secret(KV_TENANT_ID,tenant_id)\n",
    "\n",
    "# credentials = ClientSecretCredential(\n",
    "#     client_id=client_id,\n",
    "#     client_secret=client_secret,\n",
    "#     tenant_id=tenant_id\n",
    "# )\n",
    "# cluster_name = \"adx02\"\n",
    "# resource_group_name = \"databackend\"\n",
    "# kusto_management_client = KustoManagementClient(credentials, subscription_id)\n",
    "\n",
    "# cluster_operations = kusto_management_client.clusters\n",
    "\n",
    "\n",
    "\n"
   ]
  },
  {
   "cell_type": "code",
   "execution_count": null,
   "metadata": {},
   "outputs": [],
   "source": [
    "# poller = cluster_operations.begin_add_language_extensions(resource_group_name, cluster_name, LanguageExtensionsList(value=[LanguageExtension(language_extension_name=\"PYTHON\")]))\n",
    "# poller.wait()"
   ]
  },
  {
   "cell_type": "code",
   "execution_count": 2,
   "metadata": {},
   "outputs": [
    {
     "name": "stdout",
     "output_type": "stream",
     "text": [
      "InProgress........................................................................................\n",
      "SucceededProvisioning operation finished, operation \"Succeeded\"\n"
     ]
    }
   ],
   "source": [
    "from azureml.core.compute import AksCompute, ComputeTarget\n",
    "\n",
    "# Use the default configuration (you can also provide parameters to customize this).\n",
    "# For example, to create a dev/test cluster, use:\n",
    "prov_config = AksCompute.provisioning_configuration(cluster_purpose = AksCompute.ClusterPurpose.DEV_TEST)\n",
    "# prov_config = AksCompute.provisioning_configuration()\n",
    "\n",
    "\n",
    "\n",
    "aks_name = 'aks002'\n",
    "# Create the cluster\n",
    "aks_target = ComputeTarget.create(workspace = ws,\n",
    "                                    name = aks_name,\n",
    "                                    provisioning_configuration = prov_config)\n",
    "\n",
    "# Wait for the create process to complete\n",
    "aks_target.wait_for_completion(show_output = True)"
   ]
  },
  {
   "cell_type": "code",
   "execution_count": null,
   "metadata": {},
   "outputs": [],
   "source": []
  }
 ],
 "metadata": {
  "interpreter": {
   "hash": "8858a4df92b06e9052bc306608e3218c33233584bc6448961c72d65ba55843de"
  },
  "kernelspec": {
   "display_name": "Python 3.8.5 ('dlresearch')",
   "language": "python",
   "name": "python3"
  },
  "language_info": {
   "codemirror_mode": {
    "name": "ipython",
    "version": 3
   },
   "file_extension": ".py",
   "mimetype": "text/x-python",
   "name": "python",
   "nbconvert_exporter": "python",
   "pygments_lexer": "ipython3",
   "version": "3.8.5"
  },
  "orig_nbformat": 4
 },
 "nbformat": 4,
 "nbformat_minor": 2
}
