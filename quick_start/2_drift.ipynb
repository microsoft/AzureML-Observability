{
 "cells": [
  {
   "cell_type": "markdown",
   "metadata": {},
   "source": [
    "### Get Azure Machine Learning Workspace\n",
    "\n",
    "Workspace is used to retreive credentials and secrets in Key Vault to connect to Azure Data Explorer."
   ]
  },
  {
   "cell_type": "code",
   "execution_count": 6,
   "metadata": {},
   "outputs": [],
   "source": [
    "from aml_obs.drift import Drift_Analysis\n",
    "from azureml.core import Workspace\n",
    "from aml_obs.drift import launch_dashboard, execute_drift_detect_job\n",
    "\n",
    "ws = Workspace.from_config()\n",
    "drift_analysis = Drift_Analysis(ws)"
   ]
  },
  {
   "cell_type": "markdown",
   "metadata": {},
   "source": [
    "### Option 1: Local Dashboard with Dash\n",
    "\n",
    "Run cell below and copy the link into browser to access the dashboard. Once in the dashboard, interact with the widgets to create visualizations from avaiable data. Use ```irisdata``` created in part 0 as a sample table if needed. "
   ]
  },
  {
   "cell_type": "code",
   "execution_count": 9,
   "metadata": {},
   "outputs": [
    {
     "name": "stdout",
     "output_type": "stream",
     "text": [
      "Dash is running on http://127.0.0.1:8050/\n",
      "\n",
      "Dash is running on http://127.0.0.1:8050/\n",
      "\n",
      "Dash is running on http://127.0.0.1:8050/\n",
      "\n",
      "Dash is running on http://127.0.0.1:8050/\n",
      "\n",
      "Dash app running on http://127.0.0.1:8050/\n"
     ]
    }
   ],
   "source": [
    "launch_dashboard(drift_analysis)"
   ]
  },
  {
   "cell_type": "markdown",
   "metadata": {},
   "source": [
    "### Option 2: Launch drift detection job and use  Dashboard to Azure Data Explorer to view result\n",
    "\n"
   ]
  },
  {
   "cell_type": "markdown",
   "metadata": {},
   "source": [
    "1. Launch data detection job which is an Azure ML job to compute drift "
   ]
  },
  {
   "cell_type": "code",
   "execution_count": 12,
   "metadata": {},
   "outputs": [
    {
     "name": "stderr",
     "output_type": "stream",
     "text": [
      "Error on request:\n",
      "Traceback (most recent call last):\n",
      "  File \"C:\\Users\\janguy\\Anaconda3\\envs\\dlresearch\\Lib\\site-packages\\flask\\app.py\", line 1832, in full_dispatch_request\n",
      "    rv = self.dispatch_request()\n",
      "  File \"C:\\Users\\janguy\\Anaconda3\\envs\\dlresearch\\Lib\\site-packages\\flask\\app.py\", line 1818, in dispatch_request\n",
      "    return self.view_functions[rule.endpoint](**req.view_args)\n",
      "  File \"C:\\Users\\janguy\\Anaconda3\\envs\\dlresearch\\Lib\\site-packages\\dash\\dash.py\", line 1383, in dispatch\n",
      "    response.set_data(func(*args, outputs_list=outputs_list))\n",
      "  File \"C:\\Users\\janguy\\Anaconda3\\envs\\dlresearch\\Lib\\site-packages\\dash\\_callback.py\", line 151, in add_context\n",
      "    output_value = func(*func_args, **func_kwargs)  # %% callback invoked %%\n",
      "  File \"C:\\Users\\janguy\\Anaconda3\\envs\\dlresearch\\Lib\\site-packages\\aml_obs\\drift\\adhoc_analysis.py\", line 205, in calculate\n",
      "    query_df = drift_analysis.analyze_drift(limit=100000,base_table_name = f'{table_name}', target_table_name=f'{target_table_name}', base_dt_from=f'{base_start_date}', base_dt_to=f'{base_end_date}', target_dt_from=f'{target_start_date}', target_dt_to=f'{target_end_date}', bin='30d')\n",
      "  File \"C:\\Users\\janguy\\Anaconda3\\envs\\dlresearch\\Lib\\site-packages\\aml_obs\\drift\\drift_analysis.py\", line 96, in analyze_drift\n",
      "    categorical_output = categorical_output_future.result()\n",
      "  File \"C:\\Users\\janguy\\Anaconda3\\envs\\dlresearch\\Lib\\concurrent\\futures\\_base.py\", line 439, in result\n",
      "    return self.__get_result()\n",
      "  File \"C:\\Users\\janguy\\Anaconda3\\envs\\dlresearch\\Lib\\concurrent\\futures\\_base.py\", line 388, in __get_result\n",
      "    raise self._exception\n",
      "  File \"C:\\Users\\janguy\\Anaconda3\\envs\\dlresearch\\Lib\\concurrent\\futures\\thread.py\", line 57, in run\n",
      "    result = self.fn(*self.args, **self.kwargs)\n",
      "  File \"C:\\Users\\janguy\\Anaconda3\\envs\\dlresearch\\Lib\\site-packages\\aml_obs\\drift\\drift_analysis.py\", line 207, in analyze_drift_categorical\n",
      "    return self.query(query)\n",
      "  File \"C:\\Users\\janguy\\Anaconda3\\envs\\dlresearch\\Lib\\site-packages\\aml_obs\\drift\\drift_analysis.py\", line 49, in query\n",
      "    response = self.client.execute(self.database_name, query, self.client_req_properties)\n",
      "  File \"C:\\Users\\janguy\\Anaconda3\\envs\\dlresearch\\Lib\\site-packages\\azure\\kusto\\data\\client.py\", line 867, in execute\n",
      "    return self.execute_query(database, query, properties)\n",
      "  File \"C:\\Users\\janguy\\Anaconda3\\envs\\dlresearch\\Lib\\site-packages\\azure\\kusto\\data\\client.py\", line 879, in execute_query\n",
      "    return self._execute(self._query_endpoint, database, query, None, self._query_default_timeout, properties)\n",
      "  File \"C:\\Users\\janguy\\Anaconda3\\envs\\dlresearch\\Lib\\site-packages\\azure\\kusto\\data\\client.py\", line 976, in _execute\n",
      "    return self._kusto_parse_by_endpoint(endpoint, response_json)\n",
      "  File \"C:\\Users\\janguy\\Anaconda3\\envs\\dlresearch\\Lib\\site-packages\\azure\\kusto\\data\\client.py\", line 725, in _kusto_parse_by_endpoint\n",
      "    return KustoResponseDataSetV2(response_json)\n",
      "  File \"C:\\Users\\janguy\\Anaconda3\\envs\\dlresearch\\Lib\\site-packages\\azure\\kusto\\data\\response.py\", line 151, in __init__\n",
      "    super(KustoResponseDataSetV2, self).__init__([t for t in json_response if t[\"FrameType\"] == \"DataTable\"])\n",
      "  File \"C:\\Users\\janguy\\Anaconda3\\envs\\dlresearch\\Lib\\site-packages\\azure\\kusto\\data\\response.py\", line 87, in __init__\n",
      "    self.tables = [KustoResultTable(t) for t in json_response]\n",
      "  File \"C:\\Users\\janguy\\Anaconda3\\envs\\dlresearch\\Lib\\site-packages\\azure\\kusto\\data\\response.py\", line 87, in <listcomp>\n",
      "    self.tables = [KustoResultTable(t) for t in json_response]\n",
      "  File \"C:\\Users\\janguy\\Anaconda3\\envs\\dlresearch\\Lib\\site-packages\\azure\\kusto\\data\\_models.py\", line 161, in __init__\n",
      "    raise KustoMultiApiError(errors)\n",
      "azure.kusto.data.exceptions.KustoMultiApiError: Query execution has resulted in error (0x80131500): Partial query failure: 0x80131500 (message: 'The sandboxed query was aborted due to a failure in initializing sandboxes  ==> ExecutePluginOperator failure: ', details: 'Source: Kusto.Cloud.Platform.Sandbox\n",
      "[0]Kusto.Cloud.Platform.Sandbox.Exceptions.SandboxInitializationFailedException: The sandboxed query was aborted due to a failure in initializing sandboxes\n",
      "Timestamp=2022-05-26T23:42:11.0208653Z\n",
      "ClientRequestId=KPC.execute;c59cc247-398c-4d34-8da7-d8dc5ea56789\n",
      "ActivityId=024a81a2-20a7-4c82-9295-19baa887fd90\n",
      "ActivityType=DN.DEQP.EvalPass.Plugin.python\n",
      "ServiceAlias=ADX02\n",
      "MachineName=KEngine000000\n",
      "ProcessName=Kusto.WinSvc.Svc\n",
      "ProcessId=6088\n",
      "ThreadId=1612\n",
      "AppDomainName=Kusto.WinSvc.Svc.exe\n",
      "ActivityStack=(Activity stack: CRID=KPC.execute;c59cc247-398c-4d34-8da7-d8dc5ea56789 ARID=024a81a2-20a7-4c82-9295-19baa887fd90 > DN.FE.ExecuteQuery/3f7000d1-3a27-4bfc-9d9d-8f82b77710d0 > DN.DEQP.EvalPass.Plugin.python/2e47e1a3-b5bf-4f30-9cb3-62bc5b3ba55e)\n",
      "ErrorCode=\n",
      "ErrorReason=\n",
      "ErrorMessage=\n",
      "DataSource=\n",
      "DatabaseName=\n",
      "ClientRequestId=\n",
      "ActivityId=00000000-0000-0000-0000-000000000000\n",
      "\n",
      "   at Kusto.Cloud.Platform.Sandbox.SandboxFactoryBase`1.GetSandboxForExecutionOrThrow() in C:\\source\\Src\\Common\\Kusto.Cloud.Platform.Sandbox\\Common\\SandboxFactoryBase.cs:line 340\n",
      "   at Kusto.DataNode.Sandbox.SandboxManager.GetSandboxForExecutionOrThrow(SandboxKind kind) in C:\\source\\Src\\Engine\\DataNode\\QueryService\\SandboxManager\\SandboxManager.cs:line 162\n",
      "   at Kusto.DataNode.QueryService.PluginsV2.SandboxedPluginBase.ExecuteInSandbox(SandboxKind sandboxKind, ISandboxManager sandboxManager, ClientRequestProperties clientRequestProperties, IDictionary`2 argumentsPropertyBag, IStreamSource inputStreamSource, IDictionary`2 externalArtifacts, Boolean spillToDisk, OperationStatistics& operationStatistics) in C:\\source\\Src\\Engine\\DataNode\\QueryService\\PluginsV2\\DistributedPlugins\\SandboxedPluginBase.cs:line 36\n",
      "   at Kusto.DataNode.QueryService.PluginsV2.ScriptExecutionPluginBase.Execute(QueryPluginExecutionContext executionContext, PluginDistributionCapsule distributionCapsule, ClientRequestProperties clientRequestProperties, IStreamSource inputStreamSource, OperationStatistics& operationStatistics) in C:\\source\\Src\\Engine\\DataNode\\QueryService\\PluginsV2\\DistributedPlugins\\Languages\\ScriptExecutionPluginBase.cs:line 167\n",
      "   at Kusto.DataNode.DataEngineQueryPlan.DataEngineQueryProcessor.DataEngineQueryCallback.ExecutePluginOperator(String pluginName, DataSourceStreamFormat inputStreamFormat, DataSourceStreamFormat outputStreamFormat, String pluginSerializedContext, String serializedQueryContextProperties, IStreamSource inputStream, OperationStatistics& operationStatistics) in C:\\source\\Src\\Engine\\DataNode\\QueryService\\DataEngineQueryPlan\\DataEngineQueryProcessor.cs:line 496').\n",
      "\n",
      "During handling of the above exception, another exception occurred:\n",
      "\n",
      "Traceback (most recent call last):\n",
      "  File \"C:\\Users\\janguy\\Anaconda3\\envs\\dlresearch\\Lib\\site-packages\\flask\\app.py\", line 2311, in wsgi_app\n",
      "    response = self.full_dispatch_request()\n",
      "  File \"C:\\Users\\janguy\\Anaconda3\\envs\\dlresearch\\Lib\\site-packages\\flask\\app.py\", line 1834, in full_dispatch_request\n",
      "    rv = self.handle_user_exception(e)\n",
      "  File \"C:\\Users\\janguy\\Anaconda3\\envs\\dlresearch\\Lib\\site-packages\\flask\\app.py\", line 1738, in handle_user_exception\n",
      "    return handler(e)\n",
      "  File \"C:\\Users\\janguy\\Anaconda3\\envs\\dlresearch\\Lib\\site-packages\\jupyter_dash\\jupyter_app.py\", line 398, in _wrap_errors\n",
      "    ipytb()\n",
      "  File \"C:\\Users\\janguy\\Anaconda3\\envs\\dlresearch\\Lib\\site-packages\\IPython\\core\\ultratb.py\", line 1285, in __call__\n",
      "    self.handler()\n",
      "  File \"C:\\Users\\janguy\\Anaconda3\\envs\\dlresearch\\Lib\\site-packages\\IPython\\core\\ultratb.py\", line 1276, in handler\n",
      "    ostream.write(self.text(etype, evalue, etb))\n",
      "  File \"C:\\Users\\janguy\\Anaconda3\\envs\\dlresearch\\Lib\\site-packages\\IPython\\core\\ultratb.py\", line 585, in text\n",
      "    tb_list = self.structured_traceback(etype, value, tb,\n",
      "  File \"C:\\Users\\janguy\\Anaconda3\\envs\\dlresearch\\Lib\\site-packages\\IPython\\core\\ultratb.py\", line 1335, in structured_traceback\n",
      "    return VerboseTB.structured_traceback(\n",
      "  File \"C:\\Users\\janguy\\Anaconda3\\envs\\dlresearch\\Lib\\site-packages\\IPython\\core\\ultratb.py\", line 1192, in structured_traceback\n",
      "    formatted_exception = self.format_exception_as_a_whole(etype, evalue, etb, number_of_lines_of_context,\n",
      "  File \"C:\\Users\\janguy\\Anaconda3\\envs\\dlresearch\\Lib\\site-packages\\IPython\\core\\ultratb.py\", line 1152, in format_exception_as_a_whole\n",
      "    frames = self.format_records(records, last_unique, recursion_repeat)\n",
      "  File \"C:\\Users\\janguy\\Anaconda3\\envs\\dlresearch\\Lib\\site-packages\\IPython\\core\\ultratb.py\", line 903, in format_records\n",
      "    frames.append(self.format_record(*r))\n",
      "  File \"C:\\Users\\janguy\\Anaconda3\\envs\\dlresearch\\Lib\\site-packages\\IPython\\core\\ultratb.py\", line 958, in format_record\n",
      "    args, varargs, varkw, locals_ = inspect.getargvalues(frame)\n",
      "  File \"C:\\Users\\janguy\\Anaconda3\\envs\\dlresearch\\Lib\\inspect.py\", line 1192, in getargvalues\n",
      "    args, varargs, varkw = getargs(frame.f_code)\n",
      "  File \"C:\\Users\\janguy\\Anaconda3\\envs\\dlresearch\\Lib\\site-packages\\IPython\\core\\ultratb.py\", line 260, in getargs\n",
      "    op = ord(co.co_code[step])\n",
      "TypeError: ord() expected string of length 1, but int found\n",
      "\n",
      "During handling of the above exception, another exception occurred:\n",
      "\n",
      "Traceback (most recent call last):\n",
      "  File \"C:\\Users\\janguy\\Anaconda3\\envs\\dlresearch\\Lib\\site-packages\\werkzeug\\serving.py\", line 323, in run_wsgi\n",
      "    execute(self.server.app)\n",
      "  File \"C:\\Users\\janguy\\Anaconda3\\envs\\dlresearch\\Lib\\site-packages\\werkzeug\\serving.py\", line 312, in execute\n",
      "    application_iter = app(environ, start_response)\n",
      "  File \"C:\\Users\\janguy\\Anaconda3\\envs\\dlresearch\\Lib\\site-packages\\flask\\app.py\", line 2328, in __call__\n",
      "    return self.wsgi_app(environ, start_response)\n",
      "  File \"C:\\Users\\janguy\\Anaconda3\\envs\\dlresearch\\Lib\\site-packages\\flask\\app.py\", line 2314, in wsgi_app\n",
      "    response = self.handle_exception(e)\n",
      "  File \"C:\\Users\\janguy\\Anaconda3\\envs\\dlresearch\\Lib\\site-packages\\flask\\app.py\", line 1767, in handle_exception\n",
      "    return self.finalize_request(handler(e), from_error_handler=True)\n",
      "  File \"C:\\Users\\janguy\\Anaconda3\\envs\\dlresearch\\Lib\\site-packages\\jupyter_dash\\jupyter_app.py\", line 398, in _wrap_errors\n",
      "    ipytb()\n",
      "  File \"C:\\Users\\janguy\\Anaconda3\\envs\\dlresearch\\Lib\\site-packages\\IPython\\core\\ultratb.py\", line 1285, in __call__\n",
      "    self.handler()\n",
      "  File \"C:\\Users\\janguy\\Anaconda3\\envs\\dlresearch\\Lib\\site-packages\\IPython\\core\\ultratb.py\", line 1276, in handler\n",
      "    ostream.write(self.text(etype, evalue, etb))\n",
      "  File \"C:\\Users\\janguy\\Anaconda3\\envs\\dlresearch\\Lib\\site-packages\\IPython\\core\\ultratb.py\", line 585, in text\n",
      "    tb_list = self.structured_traceback(etype, value, tb,\n",
      "  File \"C:\\Users\\janguy\\Anaconda3\\envs\\dlresearch\\Lib\\site-packages\\IPython\\core\\ultratb.py\", line 1335, in structured_traceback\n",
      "    return VerboseTB.structured_traceback(\n",
      "  File \"C:\\Users\\janguy\\Anaconda3\\envs\\dlresearch\\Lib\\site-packages\\IPython\\core\\ultratb.py\", line 1210, in structured_traceback\n",
      "    formatted_exceptions += self.format_exception_as_a_whole(etype, evalue, etb, lines_of_context,\n",
      "  File \"C:\\Users\\janguy\\Anaconda3\\envs\\dlresearch\\Lib\\site-packages\\IPython\\core\\ultratb.py\", line 1152, in format_exception_as_a_whole\n",
      "    frames = self.format_records(records, last_unique, recursion_repeat)\n",
      "  File \"C:\\Users\\janguy\\Anaconda3\\envs\\dlresearch\\Lib\\site-packages\\IPython\\core\\ultratb.py\", line 903, in format_records\n",
      "    frames.append(self.format_record(*r))\n",
      "  File \"C:\\Users\\janguy\\Anaconda3\\envs\\dlresearch\\Lib\\site-packages\\IPython\\core\\ultratb.py\", line 958, in format_record\n",
      "    args, varargs, varkw, locals_ = inspect.getargvalues(frame)\n",
      "  File \"C:\\Users\\janguy\\Anaconda3\\envs\\dlresearch\\Lib\\inspect.py\", line 1192, in getargvalues\n",
      "    args, varargs, varkw = getargs(frame.f_code)\n",
      "  File \"C:\\Users\\janguy\\Anaconda3\\envs\\dlresearch\\Lib\\site-packages\\IPython\\core\\ultratb.py\", line 260, in getargs\n",
      "    op = ord(co.co_code[step])\n",
      "TypeError: ord() expected string of length 1, but int found\n"
     ]
    }
   ],
   "source": [
    "subscription_id= \"\"\n",
    "resource_group = \"\"\n",
    "workspace = \"\"\n",
    "compute_name = \"\"\n",
    "base_table_name = \"iris_data\"\n",
    "target_table_name = base_table_name\n",
    "base_dt_from = \"12/15/2021\"\n",
    "base_dt_to = \"03/01/2022\"\n",
    "target_dt_from = \"04/01/2022\"\n",
    "target_dt_to =\"05/13/2022\"\n",
    "execute_drift_detect_job(subscription_id,resource_group,workspace, compute_name, base_table_name, \n",
    "target_table_name, base_dt_from ,base_dt_to,target_dt_from, target_dt_to, experiment_name= \"drift-analysis-job\", bin=\"1d\", limit=100000)"
   ]
  },
  {
   "cell_type": "markdown",
   "metadata": {},
   "source": [
    " 2.Go to Azure Data Explorer Dashboards and import the quick_start/ADX_dashboards/databoard_drift_detection.json file to create a dashboard.\n",
    "\n",
    "Review the instructions on how to import the dashboard [here.](https://docs.microsoft.com/en-us/azure/data-explorer/azure-data-explorer-dashboards#to-create-new-dashboard-from-a-file)\n",
    "\n",
    "Default parameters may need to updated to ensure proper connection."
   ]
  }
 ],
 "metadata": {
  "interpreter": {
   "hash": "8858a4df92b06e9052bc306608e3218c33233584bc6448961c72d65ba55843de"
  },
  "kernelspec": {
   "display_name": "Python 3.8.5 ('dlresearch')",
   "language": "python",
   "name": "python3"
  },
  "language_info": {
   "codemirror_mode": {
    "name": "ipython",
    "version": 3
   },
   "file_extension": ".py",
   "mimetype": "text/x-python",
   "name": "python",
   "nbconvert_exporter": "python",
   "pygments_lexer": "ipython3",
   "version": "3.8.5"
  },
  "orig_nbformat": 4
 },
 "nbformat": 4,
 "nbformat_minor": 2
}
