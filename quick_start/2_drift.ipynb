{
 "cells": [
  {
   "cell_type": "markdown",
   "metadata": {},
   "source": [
    "### Get Azure Machine Learning Workspace\n",
    "\n",
    "Workspace is used to retreive credentials and secrets in Key Vault to connect to Azure Data Explorer."
   ]
  },
  {
   "cell_type": "code",
   "execution_count": null,
   "metadata": {},
   "outputs": [],
   "source": [
    "from aml_obs.drift import Drift_Analysis\n",
    "from azureml.core import Workspace\n",
    "from aml_obs.drift import launch_dashboard, execute_drift_detect_job\n",
    "\n",
    "ws = Workspace.from_config()\n",
    "drift_analysis = Drift_Analysis(ws)"
   ]
  },
  {
   "cell_type": "markdown",
   "metadata": {},
   "source": [
    "### Option 1: Local Dashboard with Dash\n",
    "\n",
    "Run cell below and copy the link into browser to access the dashboard. Once in the dashboard, interact with the widgets to create visualizations from avaiable data. Use ```irisdata``` created in part 0 as a sample table if needed. "
   ]
  },
  {
   "cell_type": "code",
   "execution_count": null,
   "metadata": {},
   "outputs": [],
   "source": [
    "launch_dashboard(drift_analysis)"
   ]
  },
  {
   "cell_type": "markdown",
   "metadata": {},
   "source": [
    "### Option 2: Launch drift detection job and use  Dashboard to Azure Data Explorer to view result\n",
    "\n"
   ]
  },
  {
   "cell_type": "markdown",
   "metadata": {},
   "source": [
    "1. Launch data detection job which is an Azure ML job to compute drift "
   ]
  },
  {
   "cell_type": "code",
   "execution_count": null,
   "metadata": {},
   "outputs": [],
   "source": [
    "subscription_id= \"\"\n",
    "resource_group = \"\"\n",
    "workspace = \"\"\n",
    "compute_name = \"\"\n",
    "base_table_name = \"iris_data\"\n",
    "target_table_name = base_table_name\n",
    "base_dt_from = \"12/15/2021\"\n",
    "base_dt_to = \"03/01/2022\"\n",
    "target_dt_from = \"04/01/2022\"\n",
    "target_dt_to =\"05/13/2022\"\n",
    "execute_drift_detect_job(subscription_id,resource_group,workspace, compute_name, base_table_name, \n",
    "target_table_name, base_dt_from ,base_dt_to,target_dt_from, target_dt_to, experiment_name= \"drift-analysis-job\", bin=\"1d\", limit=100000)"
   ]
  },
  {
   "cell_type": "markdown",
   "metadata": {},
   "source": [
    " 2.Go to Azure Data Explorer Dashboards and import the quick_start/ADX_dashboards/databoard_drift_detection.json file to create a dashboard.\n",
    "\n",
    "Review the instructions on how to import the dashboard [here.](https://docs.microsoft.com/en-us/azure/data-explorer/azure-data-explorer-dashboards#to-create-new-dashboard-from-a-file)\n",
    "\n",
    "Default parameters may need to updated to ensure proper connection."
   ]
  }
 ],
 "metadata": {
  "interpreter": {
   "hash": "8858a4df92b06e9052bc306608e3218c33233584bc6448961c72d65ba55843de"
  },
  "kernelspec": {
   "display_name": "Python 3.8.5 ('dlresearch')",
   "language": "python",
   "name": "python3"
  },
  "language_info": {
   "codemirror_mode": {
    "name": "ipython",
    "version": 3
   },
   "file_extension": ".py",
   "mimetype": "text/x-python",
   "name": "python",
   "nbconvert_exporter": "python",
   "pygments_lexer": "ipython3",
   "version": "3.8.5"
  },
  "orig_nbformat": 4
 },
 "nbformat": 4,
 "nbformat_minor": 2
}
