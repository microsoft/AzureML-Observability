{
 "cells": [
  {
   "cell_type": "markdown",
   "metadata": {},
   "source": [
    "### Get Azure Machine Learning Workspace\n",
    "\n",
    "Workspace is used to retreive credentials and secrets in Key Vault to connect to Azure Data Explorer."
   ]
  },
  {
   "cell_type": "code",
   "execution_count": null,
   "metadata": {},
   "outputs": [],
   "source": [
    "from obs.drift import Drift_Analysis\n",
    "from azureml.core import Workspace\n",
    "from obs.drift import launch_dashboard, execute\n",
    "\n",
    "ws = Workspace.from_config()\n",
    "drift_analysis = Drift_Analysis(ws)"
   ]
  },
  {
   "cell_type": "markdown",
   "metadata": {},
   "source": [
    "### Option 1: Local Dashboard with Dash\n",
    "\n",
    "Run cell below and copy the link into browser to access the dashboard. Once in the dashboard, interact with the widgets to create visualizations from avaiable data. Use ```irisdata``` created in part 0 as a sample table if needed. "
   ]
  },
  {
   "cell_type": "code",
   "execution_count": null,
   "metadata": {},
   "outputs": [],
   "source": [
    "launch_dashboard(drift_analysis)"
   ]
  },
  {
   "cell_type": "markdown",
   "metadata": {},
   "source": [
    "### Option 2: Launch drift detection job and use  Dashboard to Azure Data Explorer to view result\n",
    "\n"
   ]
  },
  {
   "cell_type": "markdown",
   "metadata": {},
   "source": [
    "1. Launch data detection job which is an Azure ML job to compute drift "
   ]
  },
  {
   "cell_type": "code",
   "execution_count": null,
   "metadata": {},
   "outputs": [],
   "source": [
    "from obs.drift.drift_analysis_scheduler import execute\n",
    "from datetime import datetime\n",
    "from azure.ai.ml.constants import TimeZone\n",
    "from dateutil import tz\n",
    "\n",
    "from azure.ai.ml.entities import (\n",
    "    CronSchedule,\n",
    "\n",
    "    ScheduleStatus,\n",
    ")\n",
    "subscription_id= \"0e9bace8-7a81-4922-83b5-d995ff706507\"\n",
    "resource_group = \"azureml\"\n",
    "workspace = \"ws01ent\"\n",
    "compute_name = \"cpu-cluster\"\n",
    "base_table_name = \"IRIS_DATA_NEW\"\n",
    "target_table_name = base_table_name\n",
    "base_dt_from = \"12/15/2021\"\n",
    "base_dt_to = \"03/01/2022\"\n",
    "target_dt_from = \"04/01/2022\"\n",
    "target_dt_to =\"05/13/2022\"\n",
    "\n",
    "schedule_start_time = datetime.now(tz=tz.gettz(\"PACIFIC STANDARD TIME\"))\n",
    "cron_schedule = CronSchedule(\n",
    "    expression=\"*/10 * * * *\",\n",
    "    start_time=schedule_start_time,\n",
    "    time_zone=TimeZone.PACIFIC_STANDARD_TIME,\n",
    "    status=ScheduleStatus.ENABLED,\n",
    ")\n",
    "\n",
    "ml_client, job_name = execute(subscription_id=subscription_id,resource_group=resource_group,workspace=workspace, compute_name =compute_name, \n",
    "base_table_name =base_table_name,target_table_name =target_table_name, base_dt_from =base_dt_from, base_dt_to= base_dt_to,target_dt_from=target_dt_from, \n",
    "target_dt_to=target_dt_to, bin=\"7d\", limit=100000, concurrent_run=False, drift_threshold =0.4)\n",
    "#If you need to provide your own data drift logic, please supply the module using cron_schedule =None,user_defined_module_file=\"drift_job/drift_analysis_user.py\", user_defined_conda_file=\"drift_job/conda.yml\", \n",
    "# drift_analysis_job_file=\"drift_job/drift_analysis_aml_job.py\",\n",
    "#check the example of user defined modules in aml-obs-client/obs/test/drift_job\n"
   ]
  },
  {
   "cell_type": "markdown",
   "metadata": {},
   "source": [
    " 2.Go to Azure Data Explorer Dashboards and import the quick_start/ADX_dashboards/databoard_drift_detection.json file to create a dashboard.\n",
    "\n",
    "Review the instructions on how to import the dashboard [here.](https://docs.microsoft.com/en-us/azure/data-explorer/azure-data-explorer-dashboards#to-create-new-dashboard-from-a-file)\n",
    "\n",
    "Default parameters may need to updated to ensure proper connection."
   ]
  }
 ],
 "metadata": {
  "interpreter": {
   "hash": "8858a4df92b06e9052bc306608e3218c33233584bc6448961c72d65ba55843de"
  },
  "kernelspec": {
   "display_name": "Python 3.8.5 ('dlresearch')",
   "language": "python",
   "name": "python3"
  },
  "language_info": {
   "codemirror_mode": {
    "name": "ipython",
    "version": 3
   },
   "file_extension": ".py",
   "mimetype": "text/x-python",
   "name": "python",
   "nbconvert_exporter": "python",
   "pygments_lexer": "ipython3",
   "version": "3.8.5"
  },
  "orig_nbformat": 4
 },
 "nbformat": 4,
 "nbformat_minor": 2
}
